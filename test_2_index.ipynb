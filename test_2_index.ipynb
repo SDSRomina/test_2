{
 "cells": [
  {
   "cell_type": "code",
   "execution_count": null,
   "id": "067e2eec",
   "metadata": {},
   "outputs": [],
   "source": [
    "from IPython.display import IFrame  #python display es para ver nomas la pagina\n",
    "ciaLink1=\"https://www.cia.gov/the-world-factbook/field/carbon-dioxide-emissions/country-comparison\" \n",
    "IFrame(ciaLink1, width=900, height=900)"
   ]
  },
  {
   "cell_type": "code",
   "execution_count": null,
   "id": "a3c54c10",
   "metadata": {},
   "outputs": [],
   "source": [
    "#ejercicio 1\n",
    "carbon.loc[:,['name', 'value', 'date_of_information', 'region']]"
   ]
  },
  {
   "cell_type": "code",
   "execution_count": null,
   "id": "2bce7bde",
   "metadata": {},
   "outputs": [],
   "source": [
    "#ejercicio 2\n",
    "carbon.rename(columns={'date_of_information':'carbon_date'})"
   ]
  }
 ],
 "metadata": {
  "kernelspec": {
   "display_name": "Python 3 (ipykernel)",
   "language": "python",
   "name": "python3"
  },
  "language_info": {
   "codemirror_mode": {
    "name": "ipython",
    "version": 3
   },
   "file_extension": ".py",
   "mimetype": "text/x-python",
   "name": "python",
   "nbconvert_exporter": "python",
   "pygments_lexer": "ipython3",
   "version": "3.11.4"
  }
 },
 "nbformat": 4,
 "nbformat_minor": 5
}
